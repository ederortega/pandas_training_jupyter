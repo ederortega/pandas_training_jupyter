{
 "cells": [
  {
   "cell_type": "markdown",
   "metadata": {},
   "source": [
    "# Funciones de agregación\n",
    "## Eliminación de valores duplicados y conteo de valores únicos"
   ]
  },
  {
   "cell_type": "code",
   "execution_count": null,
   "metadata": {},
   "outputs": [],
   "source": [
    "import numpy as np\n",
    "import pandas as pd\n",
    "\n",
    "df = pd.read_csv('data/creditos2.csv')\n",
    "\n",
    "df.info()"
   ]
  },
  {
   "cell_type": "markdown",
   "metadata": {},
   "source": [
    "Usando el método .drop_duplicates() se pueden eliminar valores duplicados de una o mas columnas."
   ]
  },
  {
   "cell_type": "code",
   "execution_count": null,
   "metadata": {},
   "outputs": [],
   "source": [
    "# Drop duplicate PRESTAMO_INCUMPLIDO combinations\n",
    "df_no_incumplido = df.drop_duplicates(subset='PRESTAMO_INCUMPLIDO')\n",
    "df_no_incumplido.info()"
   ]
  },
  {
   "cell_type": "code",
   "execution_count": null,
   "metadata": {},
   "outputs": [],
   "source": [
    "# Drop duplicate DEUDA_EXISTENTE/NOTAS_DEL_AGENTE combinations\n",
    "df_no_notas = df.drop_duplicates(subset=['DEUDA_EXISTENTE', 'NOTAS_DEL_AGENTE'])\n",
    "df_no_notas.info()"
   ]
  },
  {
   "cell_type": "code",
   "execution_count": null,
   "metadata": {},
   "outputs": [],
   "source": [
    "incumplidos_v = df['PRESTAMO_INCUMPLIDO'] == 'VERDADERO'\n",
    "\n",
    "# Subset the rows that PRESTAMO_INCUMPLIDO are VERDADERO and drop duplicate DEUDA_EXISTENTE\n",
    "df_deuda_existente = df[incumplidos_v].drop_duplicates(subset='DEUDA_EXISTENTE')\n",
    "df_deuda_existente[['RECORD_CREATION_DATE', 'MONTO_DEL_PRESTAMO', 'DEUDA_EXISTENTE']]"
   ]
  },
  {
   "cell_type": "markdown",
   "metadata": {},
   "source": [
    "Para el conteo de valores únicos se usa el método .value_counts(). Este método es útil para determinar la cantidad de valores de una columna de tipo categoría."
   ]
  },
  {
   "cell_type": "code",
   "execution_count": null,
   "metadata": {},
   "outputs": [],
   "source": [
    "# Count the number of records by PRESTAMO_INCUMPLIDO \n",
    "deuda_e_counts = df_deuda_existente['PRESTAMO_INCUMPLIDO'].value_counts()\n",
    "deuda_e_counts"
   ]
  },
  {
   "cell_type": "markdown",
   "metadata": {},
   "source": [
    "El parámetro normalize permite la proporción de cada valor dentro del DataFrame."
   ]
  },
  {
   "cell_type": "code",
   "execution_count": null,
   "metadata": {},
   "outputs": [],
   "source": [
    "# Get the proportion of records of each PRESTAMO_INCUMPLIDO \n",
    "deuda_proportion = df_deuda_existente['PRESTAMO_INCUMPLIDO'].value_counts(normalize=True)\n",
    "deuda_proportion"
   ]
  },
  {
   "cell_type": "markdown",
   "metadata": {},
   "source": [
    "Adicionalmente se puede ordenar el resultado estableciendo el parámetro sort en True."
   ]
  },
  {
   "cell_type": "code",
   "execution_count": null,
   "metadata": {},
   "outputs": [],
   "source": [
    "# Count the number of each DEUDA_EXISTENTE number and sort\n",
    "deuda_count = df_no_notas['DEUDA_EXISTENTE'].value_counts(sort=True)\n",
    "deuda_count"
   ]
  },
  {
   "cell_type": "code",
   "execution_count": null,
   "metadata": {},
   "outputs": [],
   "source": [
    "# Get the proportion of DEUDA_EXISTENTE of each number and sort\n",
    "deuda_props_count = df_no_notas['DEUDA_EXISTENTE'].value_counts(sort=True, normalize=True)\n",
    "deuda_props_count"
   ]
  }
 ],
 "metadata": {
  "kernelspec": {
   "display_name": "Python 3",
   "language": "python",
   "name": "python3"
  },
  "language_info": {
   "codemirror_mode": {
    "name": "ipython",
    "version": 3
   },
   "file_extension": ".py",
   "mimetype": "text/x-python",
   "name": "python",
   "nbconvert_exporter": "python",
   "pygments_lexer": "ipython3",
   "version": "3.7.8"
  }
 },
 "nbformat": 4,
 "nbformat_minor": 4
}
