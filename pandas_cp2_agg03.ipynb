{
 "cells": [
  {
   "cell_type": "markdown",
   "metadata": {},
   "source": [
    "# Funciones de agregación y análisis de datos"
   ]
  },
  {
   "cell_type": "code",
   "execution_count": 1,
   "metadata": {},
   "outputs": [],
   "source": [
    "import numpy as np\n",
    "import pandas as pd\n",
    "\n",
    "df = pd.read_csv('data/countries.csv')"
   ]
  },
  {
   "cell_type": "code",
   "execution_count": 2,
   "metadata": {},
   "outputs": [],
   "source": [
    "df[\"Region\"] = df[\"Region\"].str.strip()\n",
    "\n",
    "# Calc total population\n",
    "total_population = df[\"Population\"].sum()"
   ]
  },
  {
   "cell_type": "markdown",
   "metadata": {},
   "source": [
    "Cálculo manual de proporciones de tipos de valores."
   ]
  },
  {
   "cell_type": "code",
   "execution_count": null,
   "metadata": {},
   "outputs": [],
   "source": [
    "# Subset for Region EASTERN EUROPE, calc total Population\n",
    "estearn_europe_pop = df[df[\"Region\"] == \"EASTERN EUROPE\"][\"Population\"].sum()\n",
    "\n",
    "# Subset for Region NORTHERN AFRICA, calc total Population\n",
    "northern_africa_pop = df[df[\"Region\"] == \"NORTHERN AFRICA\"][\"Population\"].sum()\n",
    "\n",
    "# Subset for Region OCEANIA, calc total Population\n",
    "oceania_pop = df[df[\"Region\"] == \"OCEANIA\"][\"Population\"].sum()\n",
    "\n",
    "# Get proportion for each Region\n",
    "pop_by_region = [estearn_europe_pop, northern_africa_pop, oceania_pop] / total_population\n",
    "pop_by_region"
   ]
  },
  {
   "cell_type": "markdown",
   "metadata": {},
   "source": [
    "Cálculo de proporciones usando agrupación."
   ]
  },
  {
   "cell_type": "code",
   "execution_count": null,
   "metadata": {},
   "outputs": [],
   "source": [
    "# Group by Region; calc total Population\n",
    "grouped_pop_by_region = df.groupby(\"Region\")[\"Population\"].sum()\n",
    "\n",
    "# Get proportion for each Region\n",
    "pop_by_region = grouped_pop_by_region / grouped_pop_by_region.sum()\n",
    "pop_by_region"
   ]
  },
  {
   "cell_type": "code",
   "execution_count": null,
   "metadata": {},
   "outputs": [],
   "source": [
    "# Group by Region and Climate; calc total Population\n",
    "pop_by_region_and_climate = df.groupby([\"Region\", \"Climate\"])[\"Population\"].sum()\n",
    "pop_by_region_and_climate"
   ]
  },
  {
   "cell_type": "code",
   "execution_count": null,
   "metadata": {},
   "outputs": [],
   "source": [
    "# For each Region, aggregate GDP ($ per capita): get min, max, mean, and median\n",
    "gdp_stats = df.groupby('Region')['GDP ($ per capita)'].agg([np.min, np.max, np.mean, np.median])\n",
    "\n",
    "# Print gdp_stats\n",
    "gdp_stats"
   ]
  },
  {
   "cell_type": "code",
   "execution_count": null,
   "metadata": {},
   "outputs": [],
   "source": [
    "# For each Region, aggregate GDP ($ per capita) and Area (sq. mi.): get min, max, mean, and median\n",
    "gdp_area_stats = df.groupby('Region')[['GDP ($ per capita)', 'Area (sq. mi.)']].agg([np.min, np.max, np.mean, np.median])\n",
    "\n",
    "# Print gdp_area_stats\n",
    "gdp_area_stats"
   ]
  },
  {
   "cell_type": "markdown",
   "metadata": {},
   "source": [
    "## Pivot Table\n",
    "\n",
    "Con .pivot_table() se puede crear una tabla de valores medios por categoría."
   ]
  },
  {
   "cell_type": "code",
   "execution_count": null,
   "metadata": {},
   "outputs": [],
   "source": [
    "# Pivot for mean GDP ($ per capita) for each Region\n",
    "mean_GDP_by_region = df.pivot_table(values='GDP ($ per capita)', index='Region')\n",
    "\n",
    "# Print mean_GDP_by_region\n",
    "mean_GDP_by_region"
   ]
  },
  {
   "cell_type": "markdown",
   "metadata": {},
   "source": [
    "Adicional al valor medio que viene por defecto, también se pueden agregar otras funciones de agregación."
   ]
  },
  {
   "cell_type": "code",
   "execution_count": null,
   "metadata": {},
   "outputs": [],
   "source": [
    "# Pivot for mean and median GDP ($ per capita) for Region\n",
    "mean_med_GDP_by_region = df.pivot_table(values='GDP ($ per capita)', index='Region', aggfunc=[np.mean, np.median])\n",
    "\n",
    "# Print mean_med_sales_by_type\n",
    "mean_med_GDP_by_region"
   ]
  },
  {
   "cell_type": "markdown",
   "metadata": {},
   "source": [
    "Usando el parámetro columns se puede agrega una agrupación adicional."
   ]
  },
  {
   "cell_type": "code",
   "execution_count": null,
   "metadata": {},
   "outputs": [],
   "source": [
    "# Pivot for mean GDP ($ per capita) by Region and Climate \n",
    "mean_GDP_by_region_climate = df.pivot_table(values='GDP ($ per capita)', index='Region', columns='Climate')\n",
    "\n",
    "# Print mean_GDP_by_region_climate\n",
    "mean_GDP_by_region_climate"
   ]
  },
  {
   "cell_type": "markdown",
   "metadata": {},
   "source": [
    "Los valores nulos en las columnas se pueden tratar usando el parámetro fill_value, de esta manera estos se actualizan asignandoles un valor."
   ]
  },
  {
   "cell_type": "code",
   "execution_count": null,
   "metadata": {},
   "outputs": [],
   "source": [
    "# Pivot for mean GDP ($ per capita) by Region and Climate, fill missing values with 0\n",
    "mean_GDP_by_region_climate = df.pivot_table(values='GDP ($ per capita)', index='Region', columns='Climate', fill_value=0)\n",
    "\n",
    "# Print mean_GDP_by_region_climate\n",
    "mean_GDP_by_region_climate"
   ]
  },
  {
   "cell_type": "markdown",
   "metadata": {},
   "source": [
    "Para agregar totales por filas o columnas se define el valor del parámetro margins en True."
   ]
  },
  {
   "cell_type": "code",
   "execution_count": null,
   "metadata": {},
   "outputs": [],
   "source": [
    "# Pivot for mean GDP ($ per capita) by Region and Climate, fill missing values with 0; sum all rows and cols\n",
    "mean_GDP_by_region_climate = df.pivot_table(values='GDP ($ per capita)', index='Region', columns='Climate', fill_value=0, margins=True, aggfunc=[np.sum])\n",
    "\n",
    "# Print mean_GDP_by_region_climate\n",
    "mean_GDP_by_region_climate"
   ]
  }
 ],
 "metadata": {
  "kernelspec": {
   "display_name": "Python 3",
   "language": "python",
   "name": "python3"
  },
  "language_info": {
   "codemirror_mode": {
    "name": "ipython",
    "version": 3
   },
   "file_extension": ".py",
   "mimetype": "text/x-python",
   "name": "python",
   "nbconvert_exporter": "python",
   "pygments_lexer": "ipython3",
   "version": "3.7.8"
  }
 },
 "nbformat": 4,
 "nbformat_minor": 4
}
