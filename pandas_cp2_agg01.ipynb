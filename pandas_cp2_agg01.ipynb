{
 "cells": [
  {
   "cell_type": "markdown",
   "metadata": {},
   "source": [
    "# Funciones de agregación\n",
    "## Media, Mediana, Máximos y Mínimos"
   ]
  },
  {
   "cell_type": "code",
   "execution_count": null,
   "metadata": {},
   "outputs": [],
   "source": [
    "import numpy as np\n",
    "import pandas as pd\n",
    "\n",
    "df = pd.read_csv('data/creditos2.csv')\n",
    "\n",
    "df['FECHA'] = df.RECORD_CREATION_DATE.str.slice(0, 10)\n",
    "df['FECHA'] = pd.to_datetime(df['FECHA'])\n",
    "\n",
    "# Print the head of the sales DataFrame\n",
    "df.head()"
   ]
  },
  {
   "cell_type": "code",
   "execution_count": null,
   "metadata": {},
   "outputs": [],
   "source": [
    "# Print the info about the sales DataFrame\n",
    "df.info()"
   ]
  },
  {
   "cell_type": "markdown",
   "metadata": {},
   "source": [
    "El método .mean() calcula la media de los valores de una o varias columnas."
   ]
  },
  {
   "cell_type": "code",
   "execution_count": null,
   "metadata": {},
   "outputs": [],
   "source": [
    "'Monto del Prestamo (Mean): {}'.format(df['MONTO_DEL_PRESTAMO'].mean())"
   ]
  },
  {
   "cell_type": "markdown",
   "metadata": {},
   "source": [
    "El método .median() retorna la mediana entre los valores de una o varias columna."
   ]
  },
  {
   "cell_type": "code",
   "execution_count": null,
   "metadata": {},
   "outputs": [],
   "source": [
    "# Print the median of MONTO_DEL_PRESTAMO\n",
    "'Monto del Prestamo (Median): {}'.format(df['MONTO_DEL_PRESTAMO'].median())"
   ]
  },
  {
   "cell_type": "markdown",
   "metadata": {},
   "source": [
    "El método .max() retorna el valor máximo entre los valores de una o mas columnas."
   ]
  },
  {
   "cell_type": "code",
   "execution_count": null,
   "metadata": {},
   "outputs": [],
   "source": [
    "# Print the maximum of the FECHA column\n",
    "'Fecha Maxima: {}'.format(df['FECHA'].max())"
   ]
  },
  {
   "cell_type": "markdown",
   "metadata": {},
   "source": [
    "El método .min() hace lo opuesto al método .max()."
   ]
  },
  {
   "cell_type": "code",
   "execution_count": null,
   "metadata": {},
   "outputs": [],
   "source": [
    "'Fecha Minima: {}'.format(df['FECHA'].min())"
   ]
  },
  {
   "cell_type": "markdown",
   "metadata": {},
   "source": [
    "## Funciones personalizadas y agregación múltiple\n",
    "\n",
    "Se pueden crear funciones personalizadas y usarlas como funciones de agregación con el método .agg()."
   ]
  },
  {
   "cell_type": "code",
   "execution_count": null,
   "metadata": {},
   "outputs": [],
   "source": [
    "# A custom IQR (interquartile) function\n",
    "def iqr(column):\n",
    "    return column.quantile(0.75) - column.quantile(0.25)\n",
    " \n",
    "# Print IQR of the MONTO_DEL_PRESTAMO column\n",
    "'Monto del Prestamo IQR: {}'.format(df['MONTO_DEL_PRESTAMO'].agg(iqr))"
   ]
  },
  {
   "cell_type": "markdown",
   "metadata": {},
   "source": [
    "Para aplicar varias funciones de agregación se usa .agg() y se pasa la lista de los métodos a aplicar."
   ]
  },
  {
   "cell_type": "code",
   "execution_count": null,
   "metadata": {},
   "outputs": [],
   "source": [
    "# Update to print IQR and median of MONTO_DEL_PRESTAMO\n",
    "df['MONTO_DEL_PRESTAMO'].agg([iqr, np.median])"
   ]
  },
  {
   "cell_type": "markdown",
   "metadata": {},
   "source": [
    "## Funciones acumulativas\n",
    "\n",
    "Los métodos .cumsum() y .cummax() aplican valores acumulativos sobre una columna."
   ]
  },
  {
   "cell_type": "code",
   "execution_count": null,
   "metadata": {},
   "outputs": [],
   "source": [
    "# Sort df by FECHA\n",
    "df_fecha = df.sort_values('FECHA')\n",
    "\n",
    "monto_no_incumplido = df_fecha[df_fecha['PRESTAMO_INCUMPLIDO'] == 'FALSO']['MONTO_DEL_PRESTAMO'].sum()\n",
    "'Total prestamos no imcumplidos: {}'.format(monto_no_incumplido)"
   ]
  },
  {
   "cell_type": "code",
   "execution_count": null,
   "metadata": {},
   "outputs": [],
   "source": [
    "# Get the cumulative sum of MONTO_DEL_PRESTAMO, add as CUM_MONTO_PRESTAMO col\n",
    "df_fecha['CUM_MONTO_PRESTAMO'] = df_fecha['MONTO_DEL_PRESTAMO'].cumsum()\n",
    "\n",
    "# Get the cumulative max of MONTO_DEL_PRESTAMO, add as CUM_MAX_PRESTAMO col\n",
    "df_fecha['CUM_MAX_PRESTAMO'] = df_fecha['MONTO_DEL_PRESTAMO'].cummax()\n",
    "\n",
    "# See the columns you calculated\n",
    "df_fecha[[\"FECHA\", \"MONTO_DEL_PRESTAMO\", \"CUM_MONTO_PRESTAMO\", \"CUM_MAX_PRESTAMO\"]].head()"
   ]
  },
  {
   "cell_type": "markdown",
   "metadata": {},
   "source": [
    "## Eliminar duplicados\n",
    "\n",
    "Para eliminar valores duplicados en una o mas columnas se usa .drop_duplicates()."
   ]
  },
  {
   "cell_type": "code",
   "execution_count": null,
   "metadata": {},
   "outputs": [],
   "source": [
    "# Drop duplicate PRESTAMO_INCUMPLIDO combinations\n",
    "df_no_incumplido = df.drop_duplicates(subset='PRESTAMO_INCUMPLIDO')\n",
    "df_no_incumplido.info()"
   ]
  },
  {
   "cell_type": "code",
   "execution_count": null,
   "metadata": {},
   "outputs": [],
   "source": [
    "# Drop duplicate DEUDA_EXISTENTE/NOTAS_DEL_AGENTE combinations\n",
    "df_no_notas = df.drop_duplicates(subset=['DEUDA_EXISTENTE', 'NOTAS_DEL_AGENTE'])\n",
    "df_no_notas.info()"
   ]
  },
  {
   "cell_type": "code",
   "execution_count": null,
   "metadata": {},
   "outputs": [],
   "source": [
    "incumplidos_v = df['PRESTAMO_INCUMPLIDO'] == 'VERDADERO'\n",
    "\n",
    "# Subset the rows that PRESTAMO_INCUMPLIDO are VERDADERO and drop duplicate DEUDA_EXISTENTE\n",
    "df_deuda_existente = df[incumplidos_v].drop_duplicates(subset='DEUDA_EXISTENTE')\n",
    "df_deuda_existente[['RECORD_CREATION_DATE', 'MONTO_DEL_PRESTAMO', 'DEUDA_EXISTENTE']]"
   ]
  },
  {
   "cell_type": "markdown",
   "metadata": {},
   "source": [
    "## Conteo de valores únicos\n",
    "\n",
    "Con el método .value_counts() se puede identificar la cantidad de valores únicos de una columna. Ideal para columnas de tipo category."
   ]
  },
  {
   "cell_type": "code",
   "execution_count": null,
   "metadata": {},
   "outputs": [],
   "source": [
    "# Count the number of records by PRESTAMO_INCUMPLIDO \n",
    "deuda_e_counts = df_deuda_existente['PRESTAMO_INCUMPLIDO'].value_counts()\n",
    "deuda_e_counts"
   ]
  },
  {
   "cell_type": "code",
   "execution_count": null,
   "metadata": {},
   "outputs": [],
   "source": [
    "# Get the proportion of records of each PRESTAMO_INCUMPLIDO \n",
    "deuda_proportion = df_deuda_existente['PRESTAMO_INCUMPLIDO'].value_counts(normalize=True)\n",
    "deuda_proportion"
   ]
  },
  {
   "cell_type": "code",
   "execution_count": null,
   "metadata": {},
   "outputs": [],
   "source": [
    "# Count the number of each DEUDA_EXISTENTE number and sort\n",
    "deuda_count = df_no_notas['DEUDA_EXISTENTE'].value_counts(sort=True)\n",
    "deuda_count"
   ]
  },
  {
   "cell_type": "code",
   "execution_count": null,
   "metadata": {},
   "outputs": [],
   "source": [
    "# Get the proportion of DEUDA_EXISTENTE of each number and sort\n",
    "deuda_props_count = df_no_notas['DEUDA_EXISTENTE'].value_counts(sort=True, normalize=True)\n",
    "deuda_props_count"
   ]
  }
 ],
 "metadata": {
  "kernelspec": {
   "display_name": "Python 3",
   "language": "python",
   "name": "python3"
  },
  "language_info": {
   "codemirror_mode": {
    "name": "ipython",
    "version": 3
   },
   "file_extension": ".py",
   "mimetype": "text/x-python",
   "name": "python",
   "nbconvert_exporter": "python",
   "pygments_lexer": "ipython3",
   "version": "3.7.6"
  }
 },
 "nbformat": 4,
 "nbformat_minor": 4
}
