{
 "cells": [
  {
   "cell_type": "markdown",
   "metadata": {},
   "source": [
    "# Visualización de datos con Matplotlib\n",
    "\n",
    "## Se debe importar Matplotlib\n",
    "\n",
    "La convención generalmente usada a la hora de importarla es usar el álias plt."
   ]
  },
  {
   "cell_type": "code",
   "execution_count": 2,
   "metadata": {},
   "outputs": [],
   "source": [
    "import numpy as np\n",
    "import matplotlib.pyplot as plt\n",
    "import pandas as pd"
   ]
  },
  {
   "cell_type": "code",
   "execution_count": null,
   "metadata": {},
   "outputs": [],
   "source": [
    "# Creditos\n",
    "creditos = pd.read_csv('data/creditos2.csv')\n",
    "\n",
    "# Look at the first few rows of data\n",
    "creditos.head()"
   ]
  },
  {
   "cell_type": "markdown",
   "metadata": {},
   "source": [
    "Creación de un gráfico de barras a partir de una columna."
   ]
  },
  {
   "cell_type": "code",
   "execution_count": null,
   "metadata": {},
   "outputs": [],
   "source": [
    "# Get the total sum of monto by office\n",
    "monto_by_office = creditos.groupby('UBICACION_DE_LA_OFICINA')['MONTO_DEL_PRESTAMO'].sum()\n",
    "\n",
    "# Create a bar plot of total monto by office\n",
    "monto_by_office.plot(kind='bar')\n",
    "\n",
    "# Show the plot\n",
    "plt.show()"
   ]
  },
  {
   "cell_type": "code",
   "execution_count": null,
   "metadata": {},
   "outputs": [],
   "source": [
    "# weather history of a city\n",
    "weather = pd.read_csv('data/weatherHistory.csv', parse_dates=['Date'])\n",
    "\n",
    "# Look at the first few rows of data\n",
    "weather.info()"
   ]
  },
  {
   "cell_type": "markdown",
   "metadata": {},
   "source": [
    "Graficando una serie de tiempo usando un gráfico de lineas."
   ]
  },
  {
   "cell_type": "code",
   "execution_count": null,
   "metadata": {},
   "outputs": [],
   "source": [
    "# weather_temp_c = weather[weather['Date'] < '2006-01-03'][['Date', 'Temperature (C)']]\n",
    "weather_temp_c = weather.groupby([weather.Date.dt.year, weather.Date.dt.month])['Temperature (C)'].max()\n",
    "# Create a line plot of temperature by date\n",
    "weather_temp_c.plot(kind='line')\n",
    "\n",
    "plt.xlabel('Year, month')\n",
    "# Show the plot\n",
    "plt.show()"
   ]
  },
  {
   "cell_type": "markdown",
   "metadata": {},
   "source": [
    "Creación de un gráfico de dispersión asignando columnas a los ejes del gráfico."
   ]
  },
  {
   "cell_type": "code",
   "execution_count": null,
   "metadata": {},
   "outputs": [],
   "source": [
    "# Countries\n",
    "countries = pd.read_csv('data/countries.csv')\n",
    "\n",
    "# Scatter plot of Population vs GDP ($ per capita) with title\n",
    "countries.plot(x='Population', y='GDP ($ per capita)', kind='scatter', title='Population vs. GDP per capita')\n",
    "\n",
    "# Show the plot\n",
    "plt.show()"
   ]
  }
 ],
 "metadata": {
  "kernelspec": {
   "display_name": "Python 3",
   "language": "python",
   "name": "python3"
  },
  "language_info": {
   "codemirror_mode": {
    "name": "ipython",
    "version": 3
   },
   "file_extension": ".py",
   "mimetype": "text/x-python",
   "name": "python",
   "nbconvert_exporter": "python",
   "pygments_lexer": "ipython3",
   "version": "3.7.6"
  }
 },
 "nbformat": 4,
 "nbformat_minor": 4
}
