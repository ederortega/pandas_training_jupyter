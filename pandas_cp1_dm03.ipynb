{
 "cells": [
  {
   "cell_type": "markdown",
   "metadata": {},
   "source": [
    "# Adición de nuevas columnas a un DataFrame"
   ]
  },
  {
   "cell_type": "code",
   "execution_count": 2,
   "metadata": {},
   "outputs": [],
   "source": [
    "import pandas as pd\n",
    "\n",
    "countries = pd.read_csv('data/countries.csv')"
   ]
  },
  {
   "cell_type": "markdown",
   "metadata": {},
   "source": [
    "## Propagación de valores\n",
    "\n",
    "Al igual que se agrega un nuevo valor a un diccionario, también se usa la notación de corchetes ([]). Los valores que se asignan se propagan a todos lo registros."
   ]
  },
  {
   "cell_type": "code",
   "execution_count": 3,
   "metadata": {},
   "outputs": [],
   "source": [
    "columns_to_show = ['Country', 'Population', 'Area (sq. mi.)', 'Pop. per Area', 'Year']\n",
    "# Add year\n",
    "countries['Year'] = 2000"
   ]
  },
  {
   "cell_type": "markdown",
   "metadata": {},
   "source": [
    "## Cálculo a partir de columnas existentes\n",
    "\n",
    "También se pueden crear nuevas columnas calculando su valor a partir de otras ya existentes."
   ]
  },
  {
   "cell_type": "code",
   "execution_count": null,
   "metadata": {},
   "outputs": [],
   "source": [
    "# Add P per Area columna by divide Population and Area (sq. mi.) \n",
    "countries['Pop. per Area'] = countries['Population'] / countries['Area (sq. mi.)']\n",
    "\n",
    "# See the result\n",
    "countries[columns_to_show].head()"
   ]
  },
  {
   "cell_type": "markdown",
   "metadata": {},
   "source": [
    "Las nuevas columnas tienen las mismas capacidades que las originales del DataFrame."
   ]
  },
  {
   "cell_type": "code",
   "execution_count": null,
   "metadata": {},
   "outputs": [],
   "source": [
    "# Subset rows for 'Pop. per Area greater than 500\n",
    "high_density = countries[countries['Pop. per Area'] > 500]\n",
    "\n",
    "# Sort high_homelessness by descending indiv_per_10k\n",
    "high_density = high_density.sort_values('Pop. per Area', ascending=False)\n",
    "\n",
    "# See the result\n",
    "high_density[columns_to_show].head()"
   ]
  },
  {
   "cell_type": "code",
   "execution_count": null,
   "metadata": {},
   "outputs": [],
   "source": [
    "high_density[columns_to_show].tail()"
   ]
  }
 ],
 "metadata": {
  "kernelspec": {
   "display_name": "Python 3",
   "language": "python",
   "name": "python3"
  },
  "language_info": {
   "codemirror_mode": {
    "name": "ipython",
    "version": 3
   },
   "file_extension": ".py",
   "mimetype": "text/x-python",
   "name": "python",
   "nbconvert_exporter": "python",
   "pygments_lexer": "ipython3",
   "version": "3.7.6"
  }
 },
 "nbformat": 4,
 "nbformat_minor": 4
}
