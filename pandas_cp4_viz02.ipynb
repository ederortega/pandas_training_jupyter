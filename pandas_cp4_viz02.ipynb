{
 "cells": [
  {
   "cell_type": "markdown",
   "metadata": {},
   "source": [
    "# Visualización de datos con Matplotlib\n",
    "\n",
    "## Graficando histogramas"
   ]
  },
  {
   "cell_type": "code",
   "execution_count": null,
   "metadata": {},
   "outputs": [],
   "source": [
    "import numpy as np\n",
    "import matplotlib.pyplot as plt\n",
    "import pandas as pd\n",
    "\n",
    "# Creditos\n",
    "creditos = pd.read_csv('data/creditos2.csv')\n",
    "# Look at the first few rows of data\n",
    "creditos.head()"
   ]
  },
  {
   "cell_type": "markdown",
   "metadata": {},
   "source": [
    "Creación de histograma sencillo con valores por defecto."
   ]
  },
  {
   "cell_type": "code",
   "execution_count": null,
   "metadata": {},
   "outputs": [],
   "source": [
    "# Histogram of conventional MONTO of NORTHERN CALIFORNIA OFFICE  \n",
    "creditos[creditos['UBICACION_DE_LA_OFICINA'] == 'NORTHERN CALIFORNIA']['MONTO_DEL_PRESTAMO'].hist()\n",
    "\n",
    "# Add a legend\n",
    "plt.title('NORTHERN CALIFORNIA')\n",
    "\n",
    "# Show the plot\n",
    "plt.show()"
   ]
  },
  {
   "cell_type": "markdown",
   "metadata": {},
   "source": [
    "Creación de un histograma compuesto controlando la opacidad y el número de beans."
   ]
  },
  {
   "cell_type": "code",
   "execution_count": null,
   "metadata": {},
   "outputs": [],
   "source": [
    "# Histogram of conventional MONTO of SOUTHERN CALIFORNIA OFFICE  \n",
    "creditos[creditos['UBICACION_DE_LA_OFICINA'] == 'SOUTHERN CALIFORNIA']['MONTO_DEL_PRESTAMO'].hist(alpha=0.5, bins=20)\n",
    "\n",
    "# Histogram of conventional MONTO of ARIZONA OFFICE \n",
    "creditos[creditos['UBICACION_DE_LA_OFICINA'] == 'ARIZONA']['MONTO_DEL_PRESTAMO'].hist(alpha=0.5, bins=20)\n",
    "\n",
    "# Add a legend\n",
    "plt.legend(['SOUTHERN CALIFORNIA', 'ARIZONA'])\n",
    "\n",
    "# Show the plot\n",
    "plt.show()"
   ]
  }
 ],
 "metadata": {
  "kernelspec": {
   "display_name": "Python 3",
   "language": "python",
   "name": "python3"
  },
  "language_info": {
   "codemirror_mode": {
    "name": "ipython",
    "version": 3
   },
   "file_extension": ".py",
   "mimetype": "text/x-python",
   "name": "python",
   "nbconvert_exporter": "python",
   "pygments_lexer": "ipython3",
   "version": "3.7.6"
  }
 },
 "nbformat": 4,
 "nbformat_minor": 4
}
