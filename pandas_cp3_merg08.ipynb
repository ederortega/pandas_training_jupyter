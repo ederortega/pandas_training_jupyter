{
 "cells": [
  {
   "cell_type": "markdown",
   "metadata": {},
   "source": [
    "# Union y concatenación de DataFrames\n",
    "\n",
    "## Unión de DataFrames usando el método .merge()"
   ]
  },
  {
   "cell_type": "code",
   "execution_count": 3,
   "metadata": {},
   "outputs": [],
   "source": [
    "import numpy as np\n",
    "import pandas as pd\n",
    "\n",
    "# Read 'sp500.csv' into a DataFrame: sp500\n",
    "sp500 = pd.read_csv('data/sp500.csv', index_col='Date', parse_dates=True)\n",
    "\n",
    "# Read 'exchange.csv' into a DataFrame: exchange\n",
    "exchange = pd.read_csv('data/exchange.csv', index_col='Date', parse_dates=True)"
   ]
  },
  {
   "cell_type": "markdown",
   "metadata": {},
   "source": [
    "Al unir dos DataFrame se puede especificar la columna que relaciona los dos DataFrame."
   ]
  },
  {
   "cell_type": "code",
   "execution_count": null,
   "metadata": {},
   "outputs": [],
   "source": [
    "# Merge sp500 with exchange on 'Date': merge_by_date\n",
    "merge_by_date = pd.merge(sp500, exchange, on='Date')\n",
    "\n",
    "# Print merge_by_date\n",
    "merge_by_date.head()"
   ]
  },
  {
   "cell_type": "markdown",
   "metadata": {},
   "source": [
    "## Concatenación entre columnas de diferente nombre con left_on y right_on"
   ]
  },
  {
   "cell_type": "code",
   "execution_count": null,
   "metadata": {},
   "outputs": [],
   "source": [
    "# Read 'players.csv' into a DataFrame: players\n",
    "players = pd.read_csv('data/nba/players.csv', index_col='Index')\n",
    "\n",
    "# Read 'player_data.csv' into a DataFrame: player_data\n",
    "player_data = pd.read_csv('data/nba/player_data.csv')\n",
    "\n",
    "# Print players\n",
    "players.head()"
   ]
  },
  {
   "cell_type": "code",
   "execution_count": null,
   "metadata": {},
   "outputs": [],
   "source": [
    "# Print player_data\n",
    "player_data.head()"
   ]
  },
  {
   "cell_type": "markdown",
   "metadata": {},
   "source": [
    "Se usa **left_on** para indicar la columna del primer DataFrame y **right_on** para el de la derecha."
   ]
  },
  {
   "cell_type": "code",
   "execution_count": null,
   "metadata": {},
   "outputs": [],
   "source": [
    "# Merge players with players left on 'Player' and right on 'name': merge_by_name\n",
    "merge_by_name = pd.merge(players, player_data, left_on='Player', right_on='name')\n",
    "\n",
    "# Print player_data\n",
    "merge_by_name.head()"
   ]
  },
  {
   "cell_type": "markdown",
   "metadata": {},
   "source": [
    "Con el parámetro **suffixes** se pueden definir los sufijos para diferenciar las columnas con igual nombre."
   ]
  },
  {
   "cell_type": "code",
   "execution_count": null,
   "metadata": {},
   "outputs": [],
   "source": [
    "# Merge players with players left on 'Player' and right on 'name' and suffixes: merge_by_name_suffix\n",
    "merge_by_name_suffix = pd.merge(players, player_data, left_on='Player', right_on='name', suffixes=['_l', '_r'])\n",
    "\n",
    "# Print player_data\n",
    "merge_by_name_suffix.head()"
   ]
  },
  {
   "cell_type": "markdown",
   "metadata": {},
   "source": [
    "Para hacer merge usando varias columnas se debe definir una lista para el parámetro **on**."
   ]
  },
  {
   "cell_type": "code",
   "execution_count": null,
   "metadata": {},
   "outputs": [],
   "source": [
    "# Update players columns\n",
    "players.columns = ['name','height','weight','college','born','birth_city','birth_state']\n",
    "\n",
    "# Merge players with players on 'name' and 'college' and suffixes: merge_by_name_suffix\n",
    "merge_by_name_suffix = pd.merge(players, player_data, on=['name', 'college'], suffixes=['_left', '_right'])\n",
    "\n",
    "# Print player_data\n",
    "merge_by_name_suffix.head()"
   ]
  }
 ],
 "metadata": {
  "kernelspec": {
   "display_name": "Python 3",
   "language": "python",
   "name": "python3"
  },
  "language_info": {
   "codemirror_mode": {
    "name": "ipython",
    "version": 3
   },
   "file_extension": ".py",
   "mimetype": "text/x-python",
   "name": "python",
   "nbconvert_exporter": "python",
   "pygments_lexer": "ipython3",
   "version": "3.7.8"
  }
 },
 "nbformat": 4,
 "nbformat_minor": 4
}
