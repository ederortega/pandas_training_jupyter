{
 "cells": [
  {
   "cell_type": "markdown",
   "metadata": {},
   "source": [
    "# Ordenación, selección, filtro y adicion de columnas"
   ]
  },
  {
   "cell_type": "code",
   "execution_count": 1,
   "metadata": {},
   "outputs": [],
   "source": [
    "import pandas as pd\n",
    "\n",
    "df = pd.read_csv('data/creditos2.csv')"
   ]
  },
  {
   "cell_type": "markdown",
   "metadata": {},
   "source": [
    "## Ordenación del DataFrame\n",
    "\n",
    "Para la ordenación de valores, por columnas, se usa el método .sort_values()."
   ]
  },
  {
   "cell_type": "code",
   "execution_count": null,
   "metadata": {},
   "outputs": [],
   "source": [
    "# Sort creditos by Ubicacion de la oficina\n",
    "df_ofi = df.sort_values('UBICACION_DE_LA_OFICINA')\n",
    "\n",
    "# Print the top few rows\n",
    "df_ofi.head()"
   ]
  },
  {
   "cell_type": "code",
   "execution_count": null,
   "metadata": {},
   "outputs": [],
   "source": [
    "# Sort creditos by descending monto del prestamo\n",
    "df_monto = df.sort_values('MONTO_DEL_PRESTAMO', ascending=False)\n",
    "\n",
    "# Print the top few rows\n",
    "df_monto.head()"
   ]
  },
  {
   "cell_type": "code",
   "execution_count": null,
   "metadata": {},
   "outputs": [],
   "source": [
    "# Sort creditos by Ubicacion de la oficina, then by monto del prestamo  \n",
    "df_ofi_mon = df.sort_values(['UBICACION_DE_LA_OFICINA', 'MONTO_DEL_PRESTAMO'], ascending=[True, False])\n",
    "\n",
    "# Print the top few rows\n",
    "df_ofi_mon.head()"
   ]
  },
  {
   "cell_type": "markdown",
   "metadata": {},
   "source": [
    "## Selección de columnas en un DataFrame\n",
    "\n",
    "Para trabajar con un conjunto específico de columnas se usa la notación por corchetes (Similar a un diccionario) y se pasa el nombre o los nombres de columnas escogidas."
   ]
  },
  {
   "cell_type": "code",
   "execution_count": null,
   "metadata": {},
   "outputs": [],
   "source": [
    "# Select the Creation date column\n",
    "r_creation_d = df['RECORD_CREATION_DATE']\n",
    "\n",
    "# Print the head of the result\n",
    "r_creation_d.head()"
   ]
  },
  {
   "cell_type": "code",
   "execution_count": null,
   "metadata": {},
   "outputs": [],
   "source": [
    "# Select the state and family_members columns\n",
    "df_d_ofi_mon = df[['RECORD_CREATION_DATE','UBICACION_DE_LA_OFICINA', 'MONTO_DEL_PRESTAMO']]\n",
    "\n",
    "# Print the head of the result\n",
    "df_d_ofi_mon.head()"
   ]
  },
  {
   "cell_type": "markdown",
   "metadata": {},
   "source": [
    "## Filtro de datos en un DataFrame\n",
    "\n",
    "Se usa una expresión lógica entre corchetes ([]) para filtrar los registros."
   ]
  },
  {
   "cell_type": "code",
   "execution_count": null,
   "metadata": {},
   "outputs": [],
   "source": [
    "# Filter for rows where monto is greater than 10000\n",
    "df_gt_10k = df[df['MONTO_DEL_PRESTAMO'] > 10000]\n",
    "\n",
    "# See the result\n",
    "df_gt_10k.head()"
   ]
  },
  {
   "cell_type": "code",
   "execution_count": null,
   "metadata": {},
   "outputs": [],
   "source": [
    "# Filter for rows where ubicacion is OREGON\n",
    "df_oregon = df[df['UBICACION_DE_LA_OFICINA'] == 'OREGON']\n",
    "\n",
    "# See the result\n",
    "df_oregon.head()"
   ]
  },
  {
   "cell_type": "markdown",
   "metadata": {},
   "source": [
    "Para conectar expresiones lógicas use los caracteres & y | representando and y or respectivamente."
   ]
  },
  {
   "cell_type": "code",
   "execution_count": null,
   "metadata": {},
   "outputs": [],
   "source": [
    "# Filter for rows where monto is greater than 10000 and ubicacion is ARIZONA\n",
    "df_lt_10k_ari = df[(df['MONTO_DEL_PRESTAMO'] < 10000) & (df['UBICACION_DE_LA_OFICINA'] == 'ARIZONA')]\n",
    "\n",
    "# See the result\n",
    "df_lt_10k_ari.head()"
   ]
  },
  {
   "cell_type": "markdown",
   "metadata": {},
   "source": [
    "Existen varios método que ayudan a filtrar datos, como por ejemplo: .isin()"
   ]
  },
  {
   "cell_type": "code",
   "execution_count": null,
   "metadata": {},
   "outputs": [],
   "source": [
    "# Subset for rows ubicacion in ARIZONA and OREGON\n",
    "df_ubi2 = df[df['UBICACION_DE_LA_OFICINA'].isin(['ARIZONA', 'OREGON'])]\n",
    "\n",
    "# See the result\n",
    "df_ubi2.head()"
   ]
  }
 ],
 "metadata": {
  "kernelspec": {
   "display_name": "Python 3",
   "language": "python",
   "name": "python3"
  },
  "language_info": {
   "codemirror_mode": {
    "name": "ipython",
    "version": 3
   },
   "file_extension": ".py",
   "mimetype": "text/x-python",
   "name": "python",
   "nbconvert_exporter": "python",
   "pygments_lexer": "ipython3",
   "version": "3.7.6"
  }
 },
 "nbformat": 4,
 "nbformat_minor": 4
}
