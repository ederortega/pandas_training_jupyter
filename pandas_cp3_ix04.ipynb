{
 "cells": [
  {
   "cell_type": "markdown",
   "metadata": {},
   "source": [
    "# Indices\n",
    "\n",
    "## Consulta de índices para Pivot Tables y sus funciones de agregación."
   ]
  },
  {
   "cell_type": "code",
   "execution_count": null,
   "metadata": {},
   "outputs": [],
   "source": [
    "import numpy as np\n",
    "import pandas as pd\n",
    "\n",
    "temperatures = pd.read_csv('data/Avg_World_Temp_2020.csv')\n",
    "temperatures.head()"
   ]
  },
  {
   "cell_type": "markdown",
   "metadata": {},
   "source": [
    "Creamos una Pivot Table con un índice compuesto."
   ]
  },
  {
   "cell_type": "code",
   "execution_count": null,
   "metadata": {},
   "outputs": [],
   "source": [
    "# Pivot avg_temp_c by country and city vs continent\n",
    "temp_by_country_city_vs_continent = temperatures.pivot_table('Avg_Year', index=['Country', 'City'], columns='Continent')\n",
    "\n",
    "# See the result\n",
    "temp_by_country_city_vs_continent"
   ]
  },
  {
   "cell_type": "markdown",
   "metadata": {},
   "source": [
    "Definimos un índice de tipo fecha a partir del DataFrame original."
   ]
  },
  {
   "cell_type": "code",
   "execution_count": null,
   "metadata": {},
   "outputs": [],
   "source": [
    "# Set date as an index\n",
    "temperatures_ind = temperatures.set_index('Date')\n",
    "\n",
    "# Use .loc[] to subset temperatures_ind for rows in 2010 and 2011\n",
    "temperatures_ind.loc['2010':'2011']"
   ]
  },
  {
   "cell_type": "markdown",
   "metadata": {},
   "source": [
    "De la misma forma que un índice de tipo fecha, también se puede consultar por rango de categoría en una Pivot Table."
   ]
  },
  {
   "cell_type": "code",
   "execution_count": null,
   "metadata": {},
   "outputs": [],
   "source": [
    "# Subset for Egypt to India\n",
    "temp_by_country_city_vs_continent.loc['Egypt':'India']"
   ]
  },
  {
   "cell_type": "markdown",
   "metadata": {},
   "source": [
    "Adicionalmente el rango puede ser usando el índice compuesto."
   ]
  },
  {
   "cell_type": "code",
   "execution_count": null,
   "metadata": {},
   "outputs": [],
   "source": [
    "# Subset for Egypt, Cairo to India, Delhi\n",
    "temp_by_country_city_vs_continent.loc[('Egypt', 'Cairo'):('India','Delhi')]"
   ]
  },
  {
   "cell_type": "markdown",
   "metadata": {},
   "source": [
    "Incluso, se puede definir un rango categórico para mostrar un conjunto de columnas. "
   ]
  },
  {
   "cell_type": "code",
   "execution_count": null,
   "metadata": {},
   "outputs": [],
   "source": [
    "# Subset in both directions at once\n",
    "temp_by_country_city_vs_continent.loc[('Egypt', 'Cairo'):('India','Delhi'), 'Africa':'Europe']"
   ]
  },
  {
   "cell_type": "markdown",
   "metadata": {},
   "source": [
    "Las funciones de aggregación que aplican a DataFrames, también aplican para Pivot Tables."
   ]
  },
  {
   "cell_type": "code",
   "execution_count": null,
   "metadata": {},
   "outputs": [],
   "source": [
    "# Get the worldwide mean temp by continent\n",
    "mean_temp_by_continent = temp_by_country_city_vs_continent.mean()\n",
    "\n",
    "'-------- Mean by Continent: {}'.format(mean_temp_by_continent)"
   ]
  },
  {
   "cell_type": "code",
   "execution_count": null,
   "metadata": {},
   "outputs": [],
   "source": [
    "# Filter for the continent that had the highest mean temp\n",
    "mean_temp_by_continent[mean_temp_by_continent == mean_temp_by_continent.max()]"
   ]
  },
  {
   "cell_type": "code",
   "execution_count": null,
   "metadata": {},
   "outputs": [],
   "source": [
    "# Get the mean temp by city\n",
    "mean_temp_by_city = temp_by_country_city_vs_continent.mean(axis='columns')\n",
    "\n",
    "print('-------- Mean by City: {}'.format(mean_temp_by_city))\n",
    "# Filter for the city that had the lowest mean temp\n",
    "print(mean_temp_by_city[mean_temp_by_city == mean_temp_by_city.min()])"
   ]
  }
 ],
 "metadata": {
  "kernelspec": {
   "display_name": "Python 3",
   "language": "python",
   "name": "python3"
  },
  "language_info": {
   "codemirror_mode": {
    "name": "ipython",
    "version": 3
   },
   "file_extension": ".py",
   "mimetype": "text/x-python",
   "name": "python",
   "nbconvert_exporter": "python",
   "pygments_lexer": "ipython3",
   "version": "3.7.6"
  }
 },
 "nbformat": 4,
 "nbformat_minor": 4
}
